{
  "nbformat": 4,
  "nbformat_minor": 0,
  "metadata": {
    "colab": {
      "provenance": []
    },
    "kernelspec": {
      "name": "python3",
      "display_name": "Python 3"
    },
    "language_info": {
      "name": "python"
    }
  },
  "cells": [
    {
      "cell_type": "code",
      "execution_count": 30,
      "metadata": {
        "id": "L2OOLGo5y326"
      },
      "outputs": [],
      "source": [
        "import numpy as np\n",
        "import matplotlib.pyplot as plt\n",
        "from sklearn.metrics import classification_report, confusion_matrix"
      ]
    },
    {
      "cell_type": "code",
      "source": [
        "# Defining SVM class\n",
        "class SVM:\n",
        "    def __init__(self, learning_rate=0.001, lambda_param=0.01, n_iters=1000):\n",
        "        self.lr = learning_rate\n",
        "        self.lambda_param = lambda_param\n",
        "        self.n_iters = n_iters\n",
        "        self.w = None\n",
        "        self.b = None\n",
        "\n",
        "    def fit(self, X, y):\n",
        "        n_samples, n_features = X.shape\n",
        "        self.w = np.zeros(n_features)\n",
        "        self.b = 0\n",
        "\n",
        "        for _ in range(self.n_iters):\n",
        "            for idx, x_i in enumerate(X):\n",
        "                condition = y[idx] * (np.dot(x_i, self.w) - self.b) >= 1\n",
        "                if condition:\n",
        "                    self.w -= self.lr * (2 * self.lambda_param * self.w)\n",
        "                else:\n",
        "                    self.w -= self.lr * (2 * self.lambda_param * self.w - np.dot(x_i, y[idx]))\n",
        "                    self.b -= self.lr * y[idx]\n",
        "\n",
        "    # Sigmoid function\n",
        "    def predict(self, X):\n",
        "        approximation = np.vectorize(lambda x: 1 / (1 + np.exp(-x)))\n",
        "        return approximation(np.dot(X, self.w) - self.b)\n",
        "\n",
        "    def predict_class(self, X):\n",
        "      return np.where(self.predict(X) >= 0.5, 1, -1)"
      ],
      "metadata": {
        "id": "lFqEKygqy5wU"
      },
      "execution_count": 31,
      "outputs": []
    },
    {
      "cell_type": "code",
      "source": [
        "# Generate random sample data\n",
        "np.random.seed(42)\n",
        "\n",
        "# Class -1\n",
        "X_neg = np.random.randn(25, 2) - 2\n",
        "y_neg = -1 * np.ones(25)\n",
        "\n",
        "# Class 1\n",
        "X_pos = np.random.randn(25, 2) + 2\n",
        "y_pos = np.ones(25)\n",
        "\n",
        "# Combining the data\n",
        "X = np.vstack((X_neg, X_pos))\n",
        "y = np.hstack((y_neg, y_pos))"
      ],
      "metadata": {
        "id": "uyV_5dA-y5oC"
      },
      "execution_count": 32,
      "outputs": []
    },
    {
      "cell_type": "code",
      "source": [
        "# Adding noise by flipping the labels of a few points\n",
        "noise_factor = 0.05  # 10% noise\n",
        "num_noisy_points = int(noise_factor * len(y))\n",
        "noisy_indices = np.random.choice(len(y), size=num_noisy_points, replace=False)\n",
        "y[noisy_indices] = -y[noisy_indices]"
      ],
      "metadata": {
        "id": "pPSu32vX0xFV"
      },
      "execution_count": 33,
      "outputs": []
    },
    {
      "cell_type": "code",
      "source": [
        "# Train the SVM model\n",
        "svm = SVM()\n",
        "svm.fit(X, y)"
      ],
      "metadata": {
        "id": "CXske6JVy5XA"
      },
      "execution_count": 34,
      "outputs": []
    },
    {
      "cell_type": "code",
      "source": [
        "# Making predictions\n",
        "predictions = svm.predict_class(X)\n",
        "\n",
        "# Classification report\n",
        "print(\"Classification Report:\")\n",
        "print(classification_report(y, predictions))"
      ],
      "metadata": {
        "colab": {
          "base_uri": "https://localhost:8080/"
        },
        "id": "NhE48SeLy5UK",
        "outputId": "3bc9274a-46d5-407d-81ac-21c48b50e34a"
      },
      "execution_count": 35,
      "outputs": [
        {
          "output_type": "stream",
          "name": "stdout",
          "text": [
            "Classification Report:\n",
            "              precision    recall  f1-score   support\n",
            "\n",
            "        -1.0       0.92      1.00      0.96        23\n",
            "         1.0       1.00      0.93      0.96        27\n",
            "\n",
            "    accuracy                           0.96        50\n",
            "   macro avg       0.96      0.96      0.96        50\n",
            "weighted avg       0.96      0.96      0.96        50\n",
            "\n"
          ]
        }
      ]
    },
    {
      "cell_type": "code",
      "source": [
        "# confusion matrix\n",
        "print(\"Confusion Matrix:\")\n",
        "print(confusion_matrix(y, predictions))"
      ],
      "metadata": {
        "colab": {
          "base_uri": "https://localhost:8080/"
        },
        "id": "2sogHQOy02Pg",
        "outputId": "962d6494-6c78-441d-c446-47699abe3380"
      },
      "execution_count": 36,
      "outputs": [
        {
          "output_type": "stream",
          "name": "stdout",
          "text": [
            "Confusion Matrix:\n",
            "[[23  0]\n",
            " [ 2 25]]\n"
          ]
        }
      ]
    },
    {
      "cell_type": "code",
      "source": [
        "# Extracting data for plotting\n",
        "x1 = X[:, 0]\n",
        "x2 = X[:, 1]\n",
        "\n",
        "# Create a figure and scatter plot the data points\n",
        "plt.figure(figsize=(8, 6))\n",
        "plt.scatter(x1[y == -1], x2[y == -1], color='red', marker='o', label='Class -1')\n",
        "plt.scatter(x1[y == 1], x2[y == 1], color='blue', marker='x', label='Class 1')\n",
        "\n",
        "# Plot the decision boundary\n",
        "x1_min, x1_max = X[:, 0].min() - 1, X[:, 0].max() + 1\n",
        "x2_min, x2_max = X[:, 1].min() - 1, X[:, 1].max() + 1\n",
        "xx1, xx2 = np.meshgrid(np.arange(x1_min, x1_max, 0.01), np.arange(x2_min, x2_max, 0.01))\n",
        "Z = svm.predict(np.c_[xx1.ravel(), xx2.ravel()])\n",
        "Z = Z.reshape(xx1.shape)\n",
        "plt.contour(xx1, xx2, Z, levels=[0.5], colors='k', linestyles='-')\n",
        "\n",
        "plt.xlabel('x1')\n",
        "plt.ylabel('x2')\n",
        "plt.legend()\n",
        "plt.show()\n"
      ],
      "metadata": {
        "colab": {
          "base_uri": "https://localhost:8080/",
          "height": 542
        },
        "id": "x3C7nEnlzeeN",
        "outputId": "99972483-7755-4274-dc99-4af264c0867f"
      },
      "execution_count": 37,
      "outputs": [
        {
          "output_type": "display_data",
          "data": {
            "text/plain": [
              "<Figure size 800x600 with 1 Axes>"
            ],
            "image/png": "[encoded data removed]"
          },
          "metadata": {}
        }
      ]
    }
  ]
}